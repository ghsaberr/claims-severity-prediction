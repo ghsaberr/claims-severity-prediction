{
 "cells": [
  {
   "cell_type": "markdown",
   "id": "dc065d4a-d06d-4f22-8c35-8e1b261be526",
   "metadata": {},
   "source": [
    "# Claims Severity Prediction by Fine-Tuning a Foundation Model"
   ]
  }
 ],
 "metadata": {
  "kernelspec": {
   "display_name": "Python 3 (ipykernel)",
   "language": "python",
   "name": "python3"
  },
  "language_info": {
   "codemirror_mode": {
    "name": "ipython",
    "version": 3
   },
   "file_extension": ".py",
   "mimetype": "text/x-python",
   "name": "python",
   "nbconvert_exporter": "python",
   "pygments_lexer": "ipython3",
   "version": "3.11.1"
  }
 },
 "nbformat": 4,
 "nbformat_minor": 5
}
